{
 "cells": [
  {
   "cell_type": "markdown",
   "metadata": {},
   "source": [
    "## GBP for CisDecoding batch\n",
    "### outputing heatmap and weight raw data\n",
    "\n",
    "Visualize the CRE bins relevant to the prediction of target class.\n",
    "Input: h5 trained model, CRE arrays (in npy format) used for training with \"1dCNN CisDecoding_training_basic.py\" located on the \"select_GBP\" directory\n",
    "Output: heatmap and raw (numerical) data for Guided-Backpropagation on \"GBPheatmap-cisdecode\" and \"GBPrawdata-cisdecode\" directories, respectively.\n",
    "\n",
    "To run, \"helper_forCisDecode2.py\" and \"visualizations_forCisDecode.py\" are required in the same directory."
   ]
  },
  {
   "cell_type": "code",
   "execution_count": null,
   "metadata": {
    "collapsed": false
   },
   "outputs": [],
   "source": [
    "import gc\n",
    "import matplotlib.pyplot as plt\n",
    "import numpy as np\n",
    "from visualizations_forCisDecode import GradCAM, GuidedGradCAM, GBP, LRP, CLRP, SGLRP, LRPA, LRPB, LRPE\n",
    "from keras.layers import (Activation, Add, GlobalAveragePooling2D,\n",
    "                          BatchNormalization, Conv1D, Conv2D, Dense, Flatten, Reshape, Input, Dropout,\n",
    "                          MaxPooling1D,MaxPooling2D)\n",
    "\n",
    "from keras.models import load_model, Model, Sequential\n",
    "from helper_forCisDecode2 import heatmap_optional\n",
    "import innvestigate.utils as iutils\n",
    "import os\n",
    "from keras.utils import plot_model,np_utils\n",
    "from keras.preprocessing.image import img_to_array, load_img\n",
    "\n",
    "from keras.layers import Dense, GlobalAveragePooling2D\n",
    "from sklearn.model_selection import train_test_split\n",
    "from keras.regularizers import l2\n",
    "from keras import backend as K\n",
    "from keras import optimizers\n",
    "\n",
    "from functools import reduce\n",
    "from keras.applications.vgg16 import VGG16, preprocess_input, decode_predictions\n",
    "from sklearn.metrics import classification_report, confusion_matrix\n",
    "\n",
    "import skimage as sk\n",
    "sk.__version__\n",
    "\n",
    "os.environ[\"CUDA_VISIBLE_DEVICES\"]=\"0\""
   ]
  },
  {
   "cell_type": "code",
   "execution_count": null,
   "metadata": {
    "collapsed": false,
    "scrolled": true
   },
   "outputs": [],
   "source": [
    "input_shape=(82055,20,50,1)### adjust the shape used in the training. The current setting is for 20-bins with 50 TF channels\n",
    "num_classes=2\n",
    "\n",
    "from keras.utils import CustomObjectScope\n",
    "from keras.initializers import glorot_uniform\n",
    "with CustomObjectScope({'GlorotUniform': glorot_uniform()}):\n",
    "    model = load_model(\"./example.h5\")### load tarined model for prediction of binary expression pattern from CRE arrays\n",
    "\n",
    "print(model.summary())"
   ]
  },
  {
   "cell_type": "code",
   "execution_count": null,
   "metadata": {
    "collapsed": false,
    "scrolled": true
   },
   "outputs": [],
   "source": [
    "### often need to run some times: 1-4 times ###\n",
    "partial_model = Model(\n",
    "    inputs=model.inputs,\n",
    "    outputs=iutils.keras.graph.pre_softmax_tensors(model.outputs),\n",
    "    name=model.name,\n",
    ")\n",
    "partial_model.summary()"
   ]
  },
  {
   "cell_type": "code",
   "execution_count": null,
   "metadata": {
    "collapsed": true
   },
   "outputs": [],
   "source": [
    "max_input = 1\n",
    "min_input = 0"
   ]
  },
  {
   "cell_type": "code",
   "execution_count": null,
   "metadata": {
    "collapsed": false
   },
   "outputs": [],
   "source": [
    "### Guided-bakpropagation for selected CRE arrays in npy format, located on the \"select_GBP\" directory  ###\n",
    "import glob\n",
    "\n",
    "imagefolder = \"./GBPheatmap-cisdecode/\" ### heatmap folder\n",
    "rawfolder = \"./GBPrawdata-cisdecode/\"   ### raw data folder\n",
    "\n",
    "np.set_printoptions(precision=8, suppress=True, linewidth=1000)\n",
    "guidedbackprop_analyzer = GBP(\n",
    "    partial_model,\n",
    "    target_id=1,### backprop for \"positive\" class: BRup for the original data\n",
    "    relu=False,\n",
    ")\n",
    "\n",
    "\n",
    "### Heatmap setting ###\n",
    "rate = 0.6 ### threshold value for visualization, in relative relevance level of 0.0-1.0\n",
    "alpha = 1 ### alpha value\n",
    "transp = \"False\" ### transparency in the background\n",
    "# cmap = \"seismic\"\n",
    "\n",
    "sfiles = glob.glob(\"./select_GBP/*.npy\") ### /selected/内の.npyファイル名を取得\n",
    "for sfile in sfiles:\n",
    "    ### heatmap ###\n",
    "    input_img = np.load(sfile)\n",
    "    input_img_1 = np.reshape(input_img,(1,20,50))\n",
    "    analysis_guidedbackprop = guidedbackprop_analyzer.analyze(input_img_1)\n",
    "    fig = plt.figure(figsize=(20, 8), dpi=600)\n",
    "    heatmap_optional(analysis_guidedbackprop[0], r=rate, alp=alpha)\n",
    "    fig.savefig(imagefolder + str(os.path.split(sfile)[1]) + \"_r=\" + str(rate) + \".png\", transparent=transp)\n",
    "    plt.cla()\n",
    "    fig.clf()\n",
    "    plt.clf()\n",
    "    plt.close('all')\n",
    "    plt.close(fig)\n",
    "    del input_img, input_img_1, analysis_guidedbackprop\n",
    "    gc.collect()\n",
    "\n",
    "    ### raw data ###\n",
    "    datafile = open(rawfolder + str(os.path.split(sfile)[1]), \"w\")\n",
    "    print(str(analysis_guidedbackprop), file=datafile)"
   ]
  }
 ],
 "metadata": {
  "anaconda-cloud": {},
  "kernelspec": {
   "display_name": "Python [default]",
   "language": "python",
   "name": "python3"
  },
  "language_info": {
   "codemirror_mode": {
    "name": "ipython",
    "version": 3
   },
   "file_extension": ".py",
   "mimetype": "text/x-python",
   "name": "python",
   "nbconvert_exporter": "python",
   "pygments_lexer": "ipython3",
   "version": "3.5.2"
  }
 },
 "nbformat": 4,
 "nbformat_minor": 2
}
